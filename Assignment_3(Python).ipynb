{
 "cells": [
  {
   "cell_type": "code",
   "execution_count": null,
   "id": "846fcd52-12ae-491e-86da-670d5c677447",
   "metadata": {},
   "outputs": [],
   "source": [
    "# Pyhton Code To check Prime Numbers\n"
   ]
  },
  {
   "cell_type": "code",
   "execution_count": 2,
   "id": "6e123282-6d99-4eec-a0a0-8e86f051d2ce",
   "metadata": {},
   "outputs": [
    {
     "name": "stdout",
     "output_type": "stream",
     "text": [
      "100 is not a prime number\n"
     ]
    }
   ],
   "source": [
    "def is_prime(num):\n",
    "\n",
    "  if num <= 1:\n",
    "    return False\n",
    "  elif num <= 3:\n",
    "    return True\n",
    "  elif num % 2 == 0 or num % 3 == 0:\n",
    "    return False\n",
    "\n",
    "  i = 5\n",
    "  while i * i <= num:\n",
    "    if num % i == 0 or num % (i + 2) == 0:\n",
    "      return False\n",
    "    i += 6\n",
    "  return True\n",
    "\n",
    "# Example usage\n",
    "number = 100\n",
    "\n",
    "if is_prime(number):\n",
    "  print(f\"{number} is a prime number\")\n",
    "else:\n",
    "  print(f\"{number} is not a prime number\")"
   ]
  },
  {
   "cell_type": "code",
   "execution_count": null,
   "id": "b238ee6a-e751-406c-8597-fd2143bb445b",
   "metadata": {},
   "outputs": [],
   "source": [
    "# Pyhton code to check product of Random Numbers"
   ]
  },
  {
   "cell_type": "code",
   "execution_count": 3,
   "id": "cfbd3f43-ecc9-4e16-8eae-f0aef508adaf",
   "metadata": {},
   "outputs": [
    {
     "name": "stdin",
     "output_type": "stream",
     "text": [
      "What is the product of 7 and 3?  21\n"
     ]
    },
    {
     "name": "stdout",
     "output_type": "stream",
     "text": [
      "Correct! Well done.\n"
     ]
    }
   ],
   "source": [
    "import random\n",
    "\n",
    "def product_of_random_numbers():\n",
    "    \"\"\"Generate two random numbers, ask the user for their product, and check the answer.\"\"\"\n",
    "    num1 = random.randint(1, 10)\n",
    "    num2 = random.randint(1, 10)\n",
    "    correct_product = num1 * num2\n",
    "\n",
    "    # Ask the user for the product of the two random numbers\n",
    "    user_product = int(input(f\"What is the product of {num1} and {num2}? \"))\n",
    "\n",
    "    # Check if the user's answer is correct\n",
    "    if user_product == correct_product:\n",
    "        print(\"Correct! Well done.\")\n",
    "    else:\n",
    "        print(f\"Incorrect. The correct product is {correct_product}.\")\n",
    "\n",
    "# Run the function\n",
    "product_of_random_numbers()\n"
   ]
  },
  {
   "cell_type": "code",
   "execution_count": 4,
   "id": "6920197e-fd59-4dd7-9bcd-ba035f06c3f8",
   "metadata": {},
   "outputs": [],
   "source": [
    "# python code to check Square of Even/Odd numbers"
   ]
  },
  {
   "cell_type": "code",
   "execution_count": 5,
   "id": "1af7c64e-57a6-42bb-b3f7-d58dbd5b35bc",
   "metadata": {},
   "outputs": [
    {
     "name": "stdout",
     "output_type": "stream",
     "text": [
      "The square of 100 is 10000\n",
      "The square of 102 is 10404\n",
      "The square of 104 is 10816\n",
      "The square of 106 is 11236\n",
      "The square of 108 is 11664\n",
      "The square of 110 is 12100\n",
      "The square of 112 is 12544\n",
      "The square of 114 is 12996\n",
      "The square of 116 is 13456\n",
      "The square of 118 is 13924\n",
      "The square of 120 is 14400\n",
      "The square of 122 is 14884\n",
      "The square of 124 is 15376\n",
      "The square of 126 is 15876\n",
      "The square of 128 is 16384\n",
      "The square of 130 is 16900\n",
      "The square of 132 is 17424\n",
      "The square of 134 is 17956\n",
      "The square of 136 is 18496\n",
      "The square of 138 is 19044\n",
      "The square of 140 is 19600\n",
      "The square of 142 is 20164\n",
      "The square of 144 is 20736\n",
      "The square of 146 is 21316\n",
      "The square of 148 is 21904\n",
      "The square of 150 is 22500\n",
      "The square of 152 is 23104\n",
      "The square of 154 is 23716\n",
      "The square of 156 is 24336\n",
      "The square of 158 is 24964\n",
      "The square of 160 is 25600\n",
      "The square of 162 is 26244\n",
      "The square of 164 is 26896\n",
      "The square of 166 is 27556\n",
      "The square of 168 is 28224\n",
      "The square of 170 is 28900\n",
      "The square of 172 is 29584\n",
      "The square of 174 is 30276\n",
      "The square of 176 is 30976\n",
      "The square of 178 is 31684\n",
      "The square of 180 is 32400\n",
      "The square of 182 is 33124\n",
      "The square of 184 is 33856\n",
      "The square of 186 is 34596\n",
      "The square of 188 is 35344\n",
      "The square of 190 is 36100\n",
      "The square of 192 is 36864\n",
      "The square of 194 is 37636\n",
      "The square of 196 is 38416\n",
      "The square of 198 is 39204\n",
      "The square of 200 is 40000\n"
     ]
    }
   ],
   "source": [
    "def squares_of_even_numbers():\n",
    "    \"\"\"Print the squares of all even numbers within the range of 100 to 200.\"\"\"\n",
    "    for number in range(100, 201):\n",
    "        if number % 2 == 0:  # Check if the number is even\n",
    "            print(f\"The square of {number} is {number ** 2}\")\n",
    "\n",
    "# Run the function\n",
    "squares_of_even_numbers()\n"
   ]
  },
  {
   "cell_type": "code",
   "execution_count": 6,
   "id": "7711f9cd-badc-4fb8-9a8f-f428a922e5f6",
   "metadata": {},
   "outputs": [
    {
     "name": "stdout",
     "output_type": "stream",
     "text": [
      "The square of 101 is 10201\n",
      "The square of 103 is 10609\n",
      "The square of 105 is 11025\n",
      "The square of 107 is 11449\n",
      "The square of 109 is 11881\n",
      "The square of 111 is 12321\n",
      "The square of 113 is 12769\n",
      "The square of 115 is 13225\n",
      "The square of 117 is 13689\n",
      "The square of 119 is 14161\n",
      "The square of 121 is 14641\n",
      "The square of 123 is 15129\n",
      "The square of 125 is 15625\n",
      "The square of 127 is 16129\n",
      "The square of 129 is 16641\n",
      "The square of 131 is 17161\n",
      "The square of 133 is 17689\n",
      "The square of 135 is 18225\n",
      "The square of 137 is 18769\n",
      "The square of 139 is 19321\n",
      "The square of 141 is 19881\n",
      "The square of 143 is 20449\n",
      "The square of 145 is 21025\n",
      "The square of 147 is 21609\n",
      "The square of 149 is 22201\n",
      "The square of 151 is 22801\n",
      "The square of 153 is 23409\n",
      "The square of 155 is 24025\n",
      "The square of 157 is 24649\n",
      "The square of 159 is 25281\n",
      "The square of 161 is 25921\n",
      "The square of 163 is 26569\n",
      "The square of 165 is 27225\n",
      "The square of 167 is 27889\n",
      "The square of 169 is 28561\n",
      "The square of 171 is 29241\n",
      "The square of 173 is 29929\n",
      "The square of 175 is 30625\n",
      "The square of 177 is 31329\n",
      "The square of 179 is 32041\n",
      "The square of 181 is 32761\n",
      "The square of 183 is 33489\n",
      "The square of 185 is 34225\n",
      "The square of 187 is 34969\n",
      "The square of 189 is 35721\n",
      "The square of 191 is 36481\n",
      "The square of 193 is 37249\n",
      "The square of 195 is 38025\n",
      "The square of 197 is 38809\n",
      "The square of 199 is 39601\n"
     ]
    }
   ],
   "source": [
    "def squares_of_odd_numbers():\n",
    "    \"\"\"Print the squares of all odd numbers within the range of 100 to 200.\"\"\"\n",
    "    for number in range(100, 201):\n",
    "        if number % 2 != 0:  # Check if the number is odd\n",
    "            print(f\"The square of {number} is {number ** 2}\")\n",
    "\n",
    "# Run the function\n",
    "squares_of_odd_numbers()\n"
   ]
  },
  {
   "cell_type": "code",
   "execution_count": 7,
   "id": "e273cf2b-a481-4a88-b267-b2c608b2f42c",
   "metadata": {},
   "outputs": [],
   "source": [
    "# Python code to check Word Counter"
   ]
  },
  {
   "cell_type": "code",
   "execution_count": 13,
   "id": "b4478656-bef0-40cd-9903-31d1de4e77e2",
   "metadata": {},
   "outputs": [
    {
     "name": "stdout",
     "output_type": "stream",
     "text": [
      "'this': 2\n",
      "'is': 1\n",
      "'a': 1\n",
      "'sample': 1\n",
      "'text': 1\n"
     ]
    }
   ],
   "source": [
    "def word_counter(input_text):\n",
    "    \"\"\"Count the number of occurrences of each word in a given text.\"\"\"\n",
    "    word_counts = {}\n",
    "    # Split the text into words, handling punctuation and making case-insensitive\n",
    "    words = input_text.lower().split()\n",
    "    \n",
    "    # Remove punctuation from each word\n",
    "    cleaned_words = [word.strip('.,!?;:\"()[]') for word in words]\n",
    "\n",
    "    for word in cleaned_words:\n",
    "        if word in word_counts:\n",
    "            word_counts[word] += 1\n",
    "        else:\n",
    "            word_counts[word] = 1\n",
    "\n",
    "    return word_counts\n",
    "\n",
    "# Example usage\n",
    "input_text = \"This is a sample text .This\"\n",
    "word_counts = word_counter(input_text)\n",
    "\n",
    "# Print the word counts\n",
    "for word, count in word_counts.items():\n",
    "    print(f\"'{word}': {count}\")\n"
   ]
  },
  {
   "cell_type": "code",
   "execution_count": 14,
   "id": "277c1992-560c-41f4-8975-2967d8d07fb3",
   "metadata": {},
   "outputs": [],
   "source": [
    "# Python code to check Palindrome"
   ]
  },
  {
   "cell_type": "code",
   "execution_count": 16,
   "id": "c79d932e-19cf-4967-9dfc-ef64526d37e5",
   "metadata": {},
   "outputs": [
    {
     "name": "stdout",
     "output_type": "stream",
     "text": [
      "Is 'racecar' a palindrome? True\n"
     ]
    }
   ],
   "source": [
    "def is_palindrome(s):\n",
    "    \"\"\"Check if the input string is a palindrome, ignoring spaces, punctuation, and capitalization.\"\"\"\n",
    "    # Remove non-alphanumeric characters and convert to lowercase\n",
    "    cleaned_string = ''.join(char.lower() for char in s if char.isalnum())\n",
    "\n",
    "    # Check if the cleaned string reads the same forward and backward\n",
    "    return cleaned_string == cleaned_string[::-1]\n",
    "\n",
    "# Example usage\n",
    "input_string = \"racecar\"\n",
    "print(f\"Is '{input_string}' a palindrome? {is_palindrome(input_string)}\")\n",
    "\n"
   ]
  },
  {
   "cell_type": "code",
   "execution_count": null,
   "id": "d475232f-f116-4bd9-b2e4-ab3631a74c90",
   "metadata": {},
   "outputs": [],
   "source": []
  }
 ],
 "metadata": {
  "kernelspec": {
   "display_name": "Python 3 (ipykernel)",
   "language": "python",
   "name": "python3"
  },
  "language_info": {
   "codemirror_mode": {
    "name": "ipython",
    "version": 3
   },
   "file_extension": ".py",
   "mimetype": "text/x-python",
   "name": "python",
   "nbconvert_exporter": "python",
   "pygments_lexer": "ipython3",
   "version": "3.11.7"
  }
 },
 "nbformat": 4,
 "nbformat_minor": 5
}
