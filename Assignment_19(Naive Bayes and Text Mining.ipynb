{
  "cells": [
    {
      "cell_type": "markdown",
      "id": "93921084-381e-4f3a-b177-49d22206ff71",
      "metadata": {
        "id": "93921084-381e-4f3a-b177-49d22206ff71"
      },
      "source": [
        "Naive Bayes"
      ]
    },
    {
      "cell_type": "markdown",
      "id": "9e4215a6-b345-4867-8da4-8aa5ab86cc5c",
      "metadata": {
        "id": "9e4215a6-b345-4867-8da4-8aa5ab86cc5c"
      },
      "source": [
        "The Naive Bayes classifier is a probabilistic machine learning model used for classification tasks. It is based on Bayes' theorem, with the \"naive\" assumption that features (or predictors) are independent given the class. Despite this often unrealistic assumption of feature independence, Naive Bayes classifiers perform surprisingly well in many real-world applications, particularly in text classification and natural language processing."
      ]
    },
    {
      "cell_type": "markdown",
      "id": "d24ea344-231f-4cba-812e-9092cd309cee",
      "metadata": {
        "id": "d24ea344-231f-4cba-812e-9092cd309cee"
      },
      "source": [
        "1. Data Exploration and Preprocessing"
      ]
    },
    {
      "cell_type": "code",
      "execution_count": 1,
      "id": "0b5aeddf-054c-4a2d-8b6d-19a72776d206",
      "metadata": {
        "id": "0b5aeddf-054c-4a2d-8b6d-19a72776d206",
        "outputId": "cec2ed31-b8b4-479d-c6e2-4de7170ac52e",
        "colab": {
          "base_uri": "https://localhost:8080/",
          "height": 423
        }
      },
      "outputs": [
        {
          "output_type": "execute_result",
          "data": {
            "text/plain": [
              "       Unnamed: 0                                               Data  \\\n",
              "0               0  Xref: cantaloupe.srv.cs.cmu.edu alt.atheism:49...   \n",
              "1               1  Xref: cantaloupe.srv.cs.cmu.edu alt.atheism:51...   \n",
              "2               2  Newsgroups: alt.atheism\\nPath: cantaloupe.srv....   \n",
              "3               3  Xref: cantaloupe.srv.cs.cmu.edu alt.atheism:51...   \n",
              "4               4  Xref: cantaloupe.srv.cs.cmu.edu alt.atheism:51...   \n",
              "...           ...                                                ...   \n",
              "19056       19992  Xref: cantaloupe.srv.cs.cmu.edu alt.atheism:54...   \n",
              "19057       19993  Xref: cantaloupe.srv.cs.cmu.edu alt.atheism:54...   \n",
              "19058       19994  Xref: cantaloupe.srv.cs.cmu.edu talk.religion....   \n",
              "19059       19995  Xref: cantaloupe.srv.cs.cmu.edu talk.religion....   \n",
              "19060       19996  Xref: cantaloupe.srv.cs.cmu.edu talk.abortion:...   \n",
              "\n",
              "                   Labels  \n",
              "0             alt.atheism  \n",
              "1             alt.atheism  \n",
              "2             alt.atheism  \n",
              "3             alt.atheism  \n",
              "4             alt.atheism  \n",
              "...                   ...  \n",
              "19056  talk.religion.misc  \n",
              "19057  talk.religion.misc  \n",
              "19058  talk.religion.misc  \n",
              "19059  talk.religion.misc  \n",
              "19060  talk.religion.misc  \n",
              "\n",
              "[19061 rows x 3 columns]"
            ],
            "text/html": [
              "\n",
              "  <div id=\"df-16a05b22-b6c0-4c40-ab36-40f449b58d42\" class=\"colab-df-container\">\n",
              "    <div>\n",
              "<style scoped>\n",
              "    .dataframe tbody tr th:only-of-type {\n",
              "        vertical-align: middle;\n",
              "    }\n",
              "\n",
              "    .dataframe tbody tr th {\n",
              "        vertical-align: top;\n",
              "    }\n",
              "\n",
              "    .dataframe thead th {\n",
              "        text-align: right;\n",
              "    }\n",
              "</style>\n",
              "<table border=\"1\" class=\"dataframe\">\n",
              "  <thead>\n",
              "    <tr style=\"text-align: right;\">\n",
              "      <th></th>\n",
              "      <th>Unnamed: 0</th>\n",
              "      <th>Data</th>\n",
              "      <th>Labels</th>\n",
              "    </tr>\n",
              "  </thead>\n",
              "  <tbody>\n",
              "    <tr>\n",
              "      <th>0</th>\n",
              "      <td>0</td>\n",
              "      <td>Xref: cantaloupe.srv.cs.cmu.edu alt.atheism:49...</td>\n",
              "      <td>alt.atheism</td>\n",
              "    </tr>\n",
              "    <tr>\n",
              "      <th>1</th>\n",
              "      <td>1</td>\n",
              "      <td>Xref: cantaloupe.srv.cs.cmu.edu alt.atheism:51...</td>\n",
              "      <td>alt.atheism</td>\n",
              "    </tr>\n",
              "    <tr>\n",
              "      <th>2</th>\n",
              "      <td>2</td>\n",
              "      <td>Newsgroups: alt.atheism\\nPath: cantaloupe.srv....</td>\n",
              "      <td>alt.atheism</td>\n",
              "    </tr>\n",
              "    <tr>\n",
              "      <th>3</th>\n",
              "      <td>3</td>\n",
              "      <td>Xref: cantaloupe.srv.cs.cmu.edu alt.atheism:51...</td>\n",
              "      <td>alt.atheism</td>\n",
              "    </tr>\n",
              "    <tr>\n",
              "      <th>4</th>\n",
              "      <td>4</td>\n",
              "      <td>Xref: cantaloupe.srv.cs.cmu.edu alt.atheism:51...</td>\n",
              "      <td>alt.atheism</td>\n",
              "    </tr>\n",
              "    <tr>\n",
              "      <th>...</th>\n",
              "      <td>...</td>\n",
              "      <td>...</td>\n",
              "      <td>...</td>\n",
              "    </tr>\n",
              "    <tr>\n",
              "      <th>19056</th>\n",
              "      <td>19992</td>\n",
              "      <td>Xref: cantaloupe.srv.cs.cmu.edu alt.atheism:54...</td>\n",
              "      <td>talk.religion.misc</td>\n",
              "    </tr>\n",
              "    <tr>\n",
              "      <th>19057</th>\n",
              "      <td>19993</td>\n",
              "      <td>Xref: cantaloupe.srv.cs.cmu.edu alt.atheism:54...</td>\n",
              "      <td>talk.religion.misc</td>\n",
              "    </tr>\n",
              "    <tr>\n",
              "      <th>19058</th>\n",
              "      <td>19994</td>\n",
              "      <td>Xref: cantaloupe.srv.cs.cmu.edu talk.religion....</td>\n",
              "      <td>talk.religion.misc</td>\n",
              "    </tr>\n",
              "    <tr>\n",
              "      <th>19059</th>\n",
              "      <td>19995</td>\n",
              "      <td>Xref: cantaloupe.srv.cs.cmu.edu talk.religion....</td>\n",
              "      <td>talk.religion.misc</td>\n",
              "    </tr>\n",
              "    <tr>\n",
              "      <th>19060</th>\n",
              "      <td>19996</td>\n",
              "      <td>Xref: cantaloupe.srv.cs.cmu.edu talk.abortion:...</td>\n",
              "      <td>talk.religion.misc</td>\n",
              "    </tr>\n",
              "  </tbody>\n",
              "</table>\n",
              "<p>19061 rows × 3 columns</p>\n",
              "</div>\n",
              "    <div class=\"colab-df-buttons\">\n",
              "\n",
              "  <div class=\"colab-df-container\">\n",
              "    <button class=\"colab-df-convert\" onclick=\"convertToInteractive('df-16a05b22-b6c0-4c40-ab36-40f449b58d42')\"\n",
              "            title=\"Convert this dataframe to an interactive table.\"\n",
              "            style=\"display:none;\">\n",
              "\n",
              "  <svg xmlns=\"http://www.w3.org/2000/svg\" height=\"24px\" viewBox=\"0 -960 960 960\">\n",
              "    <path d=\"M120-120v-720h720v720H120Zm60-500h600v-160H180v160Zm220 220h160v-160H400v160Zm0 220h160v-160H400v160ZM180-400h160v-160H180v160Zm440 0h160v-160H620v160ZM180-180h160v-160H180v160Zm440 0h160v-160H620v160Z\"/>\n",
              "  </svg>\n",
              "    </button>\n",
              "\n",
              "  <style>\n",
              "    .colab-df-container {\n",
              "      display:flex;\n",
              "      gap: 12px;\n",
              "    }\n",
              "\n",
              "    .colab-df-convert {\n",
              "      background-color: #E8F0FE;\n",
              "      border: none;\n",
              "      border-radius: 50%;\n",
              "      cursor: pointer;\n",
              "      display: none;\n",
              "      fill: #1967D2;\n",
              "      height: 32px;\n",
              "      padding: 0 0 0 0;\n",
              "      width: 32px;\n",
              "    }\n",
              "\n",
              "    .colab-df-convert:hover {\n",
              "      background-color: #E2EBFA;\n",
              "      box-shadow: 0px 1px 2px rgba(60, 64, 67, 0.3), 0px 1px 3px 1px rgba(60, 64, 67, 0.15);\n",
              "      fill: #174EA6;\n",
              "    }\n",
              "\n",
              "    .colab-df-buttons div {\n",
              "      margin-bottom: 4px;\n",
              "    }\n",
              "\n",
              "    [theme=dark] .colab-df-convert {\n",
              "      background-color: #3B4455;\n",
              "      fill: #D2E3FC;\n",
              "    }\n",
              "\n",
              "    [theme=dark] .colab-df-convert:hover {\n",
              "      background-color: #434B5C;\n",
              "      box-shadow: 0px 1px 3px 1px rgba(0, 0, 0, 0.15);\n",
              "      filter: drop-shadow(0px 1px 2px rgba(0, 0, 0, 0.3));\n",
              "      fill: #FFFFFF;\n",
              "    }\n",
              "  </style>\n",
              "\n",
              "    <script>\n",
              "      const buttonEl =\n",
              "        document.querySelector('#df-16a05b22-b6c0-4c40-ab36-40f449b58d42 button.colab-df-convert');\n",
              "      buttonEl.style.display =\n",
              "        google.colab.kernel.accessAllowed ? 'block' : 'none';\n",
              "\n",
              "      async function convertToInteractive(key) {\n",
              "        const element = document.querySelector('#df-16a05b22-b6c0-4c40-ab36-40f449b58d42');\n",
              "        const dataTable =\n",
              "          await google.colab.kernel.invokeFunction('convertToInteractive',\n",
              "                                                    [key], {});\n",
              "        if (!dataTable) return;\n",
              "\n",
              "        const docLinkHtml = 'Like what you see? Visit the ' +\n",
              "          '<a target=\"_blank\" href=https://colab.research.google.com/notebooks/data_table.ipynb>data table notebook</a>'\n",
              "          + ' to learn more about interactive tables.';\n",
              "        element.innerHTML = '';\n",
              "        dataTable['output_type'] = 'display_data';\n",
              "        await google.colab.output.renderOutput(dataTable, element);\n",
              "        const docLink = document.createElement('div');\n",
              "        docLink.innerHTML = docLinkHtml;\n",
              "        element.appendChild(docLink);\n",
              "      }\n",
              "    </script>\n",
              "  </div>\n",
              "\n",
              "\n",
              "<div id=\"df-94714fbb-54b0-40bf-b58d-de5002cab71e\">\n",
              "  <button class=\"colab-df-quickchart\" onclick=\"quickchart('df-94714fbb-54b0-40bf-b58d-de5002cab71e')\"\n",
              "            title=\"Suggest charts\"\n",
              "            style=\"display:none;\">\n",
              "\n",
              "<svg xmlns=\"http://www.w3.org/2000/svg\" height=\"24px\"viewBox=\"0 0 24 24\"\n",
              "     width=\"24px\">\n",
              "    <g>\n",
              "        <path d=\"M19 3H5c-1.1 0-2 .9-2 2v14c0 1.1.9 2 2 2h14c1.1 0 2-.9 2-2V5c0-1.1-.9-2-2-2zM9 17H7v-7h2v7zm4 0h-2V7h2v10zm4 0h-2v-4h2v4z\"/>\n",
              "    </g>\n",
              "</svg>\n",
              "  </button>\n",
              "\n",
              "<style>\n",
              "  .colab-df-quickchart {\n",
              "      --bg-color: #E8F0FE;\n",
              "      --fill-color: #1967D2;\n",
              "      --hover-bg-color: #E2EBFA;\n",
              "      --hover-fill-color: #174EA6;\n",
              "      --disabled-fill-color: #AAA;\n",
              "      --disabled-bg-color: #DDD;\n",
              "  }\n",
              "\n",
              "  [theme=dark] .colab-df-quickchart {\n",
              "      --bg-color: #3B4455;\n",
              "      --fill-color: #D2E3FC;\n",
              "      --hover-bg-color: #434B5C;\n",
              "      --hover-fill-color: #FFFFFF;\n",
              "      --disabled-bg-color: #3B4455;\n",
              "      --disabled-fill-color: #666;\n",
              "  }\n",
              "\n",
              "  .colab-df-quickchart {\n",
              "    background-color: var(--bg-color);\n",
              "    border: none;\n",
              "    border-radius: 50%;\n",
              "    cursor: pointer;\n",
              "    display: none;\n",
              "    fill: var(--fill-color);\n",
              "    height: 32px;\n",
              "    padding: 0;\n",
              "    width: 32px;\n",
              "  }\n",
              "\n",
              "  .colab-df-quickchart:hover {\n",
              "    background-color: var(--hover-bg-color);\n",
              "    box-shadow: 0 1px 2px rgba(60, 64, 67, 0.3), 0 1px 3px 1px rgba(60, 64, 67, 0.15);\n",
              "    fill: var(--button-hover-fill-color);\n",
              "  }\n",
              "\n",
              "  .colab-df-quickchart-complete:disabled,\n",
              "  .colab-df-quickchart-complete:disabled:hover {\n",
              "    background-color: var(--disabled-bg-color);\n",
              "    fill: var(--disabled-fill-color);\n",
              "    box-shadow: none;\n",
              "  }\n",
              "\n",
              "  .colab-df-spinner {\n",
              "    border: 2px solid var(--fill-color);\n",
              "    border-color: transparent;\n",
              "    border-bottom-color: var(--fill-color);\n",
              "    animation:\n",
              "      spin 1s steps(1) infinite;\n",
              "  }\n",
              "\n",
              "  @keyframes spin {\n",
              "    0% {\n",
              "      border-color: transparent;\n",
              "      border-bottom-color: var(--fill-color);\n",
              "      border-left-color: var(--fill-color);\n",
              "    }\n",
              "    20% {\n",
              "      border-color: transparent;\n",
              "      border-left-color: var(--fill-color);\n",
              "      border-top-color: var(--fill-color);\n",
              "    }\n",
              "    30% {\n",
              "      border-color: transparent;\n",
              "      border-left-color: var(--fill-color);\n",
              "      border-top-color: var(--fill-color);\n",
              "      border-right-color: var(--fill-color);\n",
              "    }\n",
              "    40% {\n",
              "      border-color: transparent;\n",
              "      border-right-color: var(--fill-color);\n",
              "      border-top-color: var(--fill-color);\n",
              "    }\n",
              "    60% {\n",
              "      border-color: transparent;\n",
              "      border-right-color: var(--fill-color);\n",
              "    }\n",
              "    80% {\n",
              "      border-color: transparent;\n",
              "      border-right-color: var(--fill-color);\n",
              "      border-bottom-color: var(--fill-color);\n",
              "    }\n",
              "    90% {\n",
              "      border-color: transparent;\n",
              "      border-bottom-color: var(--fill-color);\n",
              "    }\n",
              "  }\n",
              "</style>\n",
              "\n",
              "  <script>\n",
              "    async function quickchart(key) {\n",
              "      const quickchartButtonEl =\n",
              "        document.querySelector('#' + key + ' button');\n",
              "      quickchartButtonEl.disabled = true;  // To prevent multiple clicks.\n",
              "      quickchartButtonEl.classList.add('colab-df-spinner');\n",
              "      try {\n",
              "        const charts = await google.colab.kernel.invokeFunction(\n",
              "            'suggestCharts', [key], {});\n",
              "      } catch (error) {\n",
              "        console.error('Error during call to suggestCharts:', error);\n",
              "      }\n",
              "      quickchartButtonEl.classList.remove('colab-df-spinner');\n",
              "      quickchartButtonEl.classList.add('colab-df-quickchart-complete');\n",
              "    }\n",
              "    (() => {\n",
              "      let quickchartButtonEl =\n",
              "        document.querySelector('#df-94714fbb-54b0-40bf-b58d-de5002cab71e button');\n",
              "      quickchartButtonEl.style.display =\n",
              "        google.colab.kernel.accessAllowed ? 'block' : 'none';\n",
              "    })();\n",
              "  </script>\n",
              "</div>\n",
              "\n",
              "  <div id=\"id_5292b62b-aab3-4875-9c06-0bfb4082bb00\">\n",
              "    <style>\n",
              "      .colab-df-generate {\n",
              "        background-color: #E8F0FE;\n",
              "        border: none;\n",
              "        border-radius: 50%;\n",
              "        cursor: pointer;\n",
              "        display: none;\n",
              "        fill: #1967D2;\n",
              "        height: 32px;\n",
              "        padding: 0 0 0 0;\n",
              "        width: 32px;\n",
              "      }\n",
              "\n",
              "      .colab-df-generate:hover {\n",
              "        background-color: #E2EBFA;\n",
              "        box-shadow: 0px 1px 2px rgba(60, 64, 67, 0.3), 0px 1px 3px 1px rgba(60, 64, 67, 0.15);\n",
              "        fill: #174EA6;\n",
              "      }\n",
              "\n",
              "      [theme=dark] .colab-df-generate {\n",
              "        background-color: #3B4455;\n",
              "        fill: #D2E3FC;\n",
              "      }\n",
              "\n",
              "      [theme=dark] .colab-df-generate:hover {\n",
              "        background-color: #434B5C;\n",
              "        box-shadow: 0px 1px 3px 1px rgba(0, 0, 0, 0.15);\n",
              "        filter: drop-shadow(0px 1px 2px rgba(0, 0, 0, 0.3));\n",
              "        fill: #FFFFFF;\n",
              "      }\n",
              "    </style>\n",
              "    <button class=\"colab-df-generate\" onclick=\"generateWithVariable('data')\"\n",
              "            title=\"Generate code using this dataframe.\"\n",
              "            style=\"display:none;\">\n",
              "\n",
              "  <svg xmlns=\"http://www.w3.org/2000/svg\" height=\"24px\"viewBox=\"0 0 24 24\"\n",
              "       width=\"24px\">\n",
              "    <path d=\"M7,19H8.4L18.45,9,17,7.55,7,17.6ZM5,21V16.75L18.45,3.32a2,2,0,0,1,2.83,0l1.4,1.43a1.91,1.91,0,0,1,.58,1.4,1.91,1.91,0,0,1-.58,1.4L9.25,21ZM18.45,9,17,7.55Zm-12,3A5.31,5.31,0,0,0,4.9,8.1,5.31,5.31,0,0,0,1,6.5,5.31,5.31,0,0,0,4.9,4.9,5.31,5.31,0,0,0,6.5,1,5.31,5.31,0,0,0,8.1,4.9,5.31,5.31,0,0,0,12,6.5,5.46,5.46,0,0,0,6.5,12Z\"/>\n",
              "  </svg>\n",
              "    </button>\n",
              "    <script>\n",
              "      (() => {\n",
              "      const buttonEl =\n",
              "        document.querySelector('#id_5292b62b-aab3-4875-9c06-0bfb4082bb00 button.colab-df-generate');\n",
              "      buttonEl.style.display =\n",
              "        google.colab.kernel.accessAllowed ? 'block' : 'none';\n",
              "\n",
              "      buttonEl.onclick = () => {\n",
              "        google.colab.notebook.generateWithVariable('data');\n",
              "      }\n",
              "      })();\n",
              "    </script>\n",
              "  </div>\n",
              "\n",
              "    </div>\n",
              "  </div>\n"
            ],
            "application/vnd.google.colaboratory.intrinsic+json": {
              "type": "dataframe",
              "variable_name": "data",
              "summary": "{\n  \"name\": \"data\",\n  \"rows\": 19061,\n  \"fields\": [\n    {\n      \"column\": \"Unnamed: 0\",\n      \"properties\": {\n        \"dtype\": \"number\",\n        \"std\": 5570,\n        \"min\": 0,\n        \"max\": 19996,\n        \"num_unique_values\": 19061,\n        \"samples\": [\n          18444,\n          8292,\n          18433\n        ],\n        \"semantic_type\": \"\",\n        \"description\": \"\"\n      }\n    },\n    {\n      \"column\": \"Data\",\n      \"properties\": {\n        \"dtype\": \"string\",\n        \"num_unique_values\": 18581,\n        \"samples\": [\n          \"Path: cantaloupe.srv.cs.cmu.edu!magnesium.club.cc.cmu.edu!news.sei.cmu.edu!cis.ohio-state.edu!zaphod.mps.ohio-state.edu!howland.reston.ans.net!usenet.ins.cwru.edu!lerc.nasa.gov!venus.lerc.nasa.gov!smorris\\nFrom: smorris@venus.lerc.nasa.gov (Ron Morris )\\nNewsgroups: rec.sport.hockey\\nSubject: Murray as GM  (was: Wings will win\\nDate: 20 Apr 1993 12:51 EDT\\nOrganization: NASA Lewis Research Center\\nLines: 37\\nSender: smorris@venus.lerc.nasa.gov (Ronald Morris (SVER))\\nDistribution: world\\nMessage-ID: <20APR199312512640@venus.lerc.nasa.gov>\\nReferences: <ragraca.735249453@vela.acs.oakland.edu> <1993Apr19.204348.8254@sol.UVic.CA>\\nNNTP-Posting-Host: venus.lerc.nasa.gov\\nNews-Software: VAX/VMS VNEWS 1.41    \\n\\nIn article <1993Apr19.204348.8254@sol.UVic.CA>, gballent@hudson.UVic.CA writes...\\n> \\n>In article 735249453@vela.acs.oakland.edu, ragraca@vela.acs.oakland.edu (Randy A. Graca) writes:\\n> \\n>>are predicting).  Although I think Bryan Murray is probably the best GM\\n>>I have ever seen in hockey\\n> \\n>How do you figure that??  When Bryan Murray took over the Wings they were\\n>a pretty good team that was contending for the Stanley Cup but looked\\n>unlikely to win it.  Now they are a pretty good team that is contending for\\n>the Stanley Cup but looks unlikely to win it.  A truly great GM would\\n>have been able to make the moves to push the team to the upper echelon\\n>of the NHL and maybe win the Stanley Cup.  A good GM (like Murray) can\\n\\nI think Murray has done a great job.  He's picked up Ciccarelli,\\nSheppard, Ysebaert, Howe, Coffey, and Riendeau (plus some depth players) \\nwithout giving up anything the Wings needed or any of his top prospects.\\nAll of this in three years.  Has anyone done better?\\n\\nThe year before he took over, the Wings didn't even make the playoffs.\\nThere was about a year and a half during Demers' stint that the Wings\\ndid OK, but that was due to Demers' motavational skills and clutch\\nand grab style.  They didn't have much talent.\\n\\nGerald, Murray wasn't responsible for Primeau (although I'm not\\nready to admit that's a horrible pick).  They hired him after the\\ndraft (which has never made sense to me).  His first pick was\\nLapointe.\\n\\nRon \\n\\n**********\\n\\\"And one of my major goals is to leave the next president a new set\\nof things to worry about.  I'm getting bored reading the same problems\\nin the paper, decade after decade.  I want people to have to deal\\nwith new problems.\\\"\\n                    ... President Bill Clinton   2-4-93\\n\",\n          \"Xref: cantaloupe.srv.cs.cmu.edu soc.religion.christian:21637\\nPath: cantaloupe.srv.cs.cmu.edu!rochester!udel!gatech!psuvax1!rutgers!igor.rutgers.edu!geneva.rutgers.edu!christian\\nFrom: nichael@bbn.com (Nichael Cramer)\\nNewsgroups: soc.religion.christian\\nSubject: The Long Text of Acts [was: Variants in the NT Text]\\nMessage-ID: <May.16.01.57.19.1993.6719@geneva.rutgers.edu>\\nDate: 16 May 93 05:57:19 GMT\\nSender: hedrick@geneva.rutgers.edu\\nReply-To: ncramer@bbn.com\\nOrganization: BBN, Interzone Office\\nLines: 80\\nApproved: christian@aramis.rutgers.edu\\n\\n[To the moderator: I posted this about a week ago but it never showed\\n                   up (locally) on the net.  If this has already\\n                   actually been posted, please fill free to flush\\n                   this copy.  --N]\\n\\nFrom: db7n+@andrew.cmu.edu (D. Andrew Byler)\\n>Does anyone now where an English translation of the long recension of\\n>the Acts of the Apostles can be found?\\n\\n1] A english translation of this can be found in:\\n   \\\"The Acts of the Apostles, translated from the Codex Bezae, with an\\n   introduction on its Lucan Origin and Importance\\\", J. M. Wilson\\n   (London, 1923).\\n\\n2] Another work that might be useful is:\\n   \\\"The Acts of the Apostles, a Critical Edition with Introduction and\\n   Notes on Selected Passages\\\", Albert C. Clark (Oxford, 1933;\\n   reprinted 1970).\\n\\n(This is an edition of text of Acts that makes the assumption that the\\ntext in Codex Bezae is the more authentic.  I don't know if it\\nactually contains an english translation or not.)\\n\\n3] Another useful that discusses many of the variants in detail is:\\n   \\\"The Theological Tendency of the Codex Bezae Cantabrigiensis in\\n   Acts\\\", Eldon J Epp (Cambridge, 1966).\\n\\n4] The most recent reference I found was an edition in French from the\\nearly '80s.  (I can supply the reference if anyone's interested.)\\n\\n5] Now, many of the works are going to be difficult to find.  So if\\nyou're interested in examining the differences in the long recension\\nan excellent (and easily obtainable) discussion can be found in:\\n   \\\"A Textual Commentary on the Greek NT\\\", Bruce Metzger (United Bible\\n   Society, 1971).\\n\\nMetzger's book serves as a companion volume to the UBS 3rd edition of\\nthe Greek NT.  It contains a discussion on the reasoning that went\\nbehind the decisions on each of the 1440 variant readings included in\\nthe UBS3.  Furthermore, notes on an addition 600 readings are\\nincluded in aTCotGNT (the majority of these occur in Acts).\\n\\nIn particular in the introduction to the section on Acts Metzger writes:\\n   \\\"[An attempt was made] to set before the reader a more or less full\\n   report (with an English translation) of the several additions and\\n   other modifications that are attested by Western witnesses ...\\n   Since many of these have no corresponding apparatus in the\\n   text-volume, care was taken to supply an adequate conspectus of the\\n   evidence that supports the divergent readings.\\\" (p 272).\\n\\n>I understand that one of the early codexes, Vaticanus and Siniaticus has\\n>this version of Acts.  It would be interesting to know what the\\n>differences are between the long and the short forms.\\n\\n6] Most of the copies of the text of Acts that we have (including the\\nones in Vaticanus and Siniaticus) adher pretty closely to the shorter\\n(or Alexandrian) version.  The longer version to which you refer is\\nusually called the \\\"Western\\\" version and its main witness is the Codex\\nBezae (althought there are a few other rather fragmentary sources).\\n\\n7] As far as size, the difference is that in Clark's edition\\n(mentioned above) the book of Acts contains 19,983 words whereas the\\ntext edited by Westcott and Hort (a typical Alexandrian text) contains\\n18,401 words; i.e. a difference of about 8-1/2%.\\n\\n8] To answer the obvious questions, no, there are no major revelations\\nin the longer text nor major omissions in the shorter text.  The main\\ndifference seems to \\\"expansion\\\" of detail in the Western text (or, if\\nyou prefer \\\"contractions\\\" in the Alexandrian).  The Western text seems\\nto be given to more detail.  There are some interesting specific\\ncases, but this probably not the place to go into it in detail.\\n\\n9] The discussion over the years as to which of these versions is the\\nmore authentic has been hot and heavy.  If there is anything\\napproaching a modern consensus it is (i) that neither text represents\\npurely the \\\"authentic\\\" version, (ii) each variant reading has to be\\nexamined on its own merits however, (iii) the variant in the\\nAlexandrian text is the \\\"better\\\" more often than not.\\n\\nN\\n\",\n          \"Xref: cantaloupe.srv.cs.cmu.edu comp.sys.amiga.hardware:41622 comp.sys.m68k:4654 sci.electronics:53717\\nPath: cantaloupe.srv.cs.cmu.edu!das-news.harvard.edu!noc.near.net!howland.reston.ans.net!usc!sdd.hp.com!news.cs.indiana.edu!tpbbs!charon.bloomington.in.us!sgberg\\nFrom: sgberg@charon.bloomington.in.us (Stefan G. Berg)\\nNewsgroups: comp.sys.amiga.hardware,comp.sys.m68k,sci.electronics\\nSubject: Re: Motorola XC68882RC33 and RC50\\nMessage-ID: <sgberg.23xu@charon.bloomington.in.us>\\nDate: 18 Apr 93 17:27:29 EST\\nReply-To: sgberg@charon.bloomington.in.us (Stefan Berg)\\nDistribution: world\\nOrganization: Not an Organization\\nX-NewsSoftware: GRn 1.16f (10.17.92) by Mike Schwartz & Michael B. Smith\\nLines: 25\\n\\nIn article <16APR199323531467@rosie.uh.edu> st1my@rosie.uh.edu (Stich, Christian E.) writes:\\n> I just installed a Motorola XC68882RC50 FPU in an Amiga A2630 board (25 MHz\\n> 68030 + 68882 with capability to clock the FPU separately).  Previously\\n> a MC68882RC25 was installed and everything was working perfectly.  Now the\\n> systems displays a yellow screen (indicating a exception) when it check for\\n> the presence/type of FPU.  When I reinstall an MC68882RC25 the system works\\n> fine, but with the XC68882 even at 25 MHz it does not work.  The designer\\n> of the board mentioned that putting a pullup resistor on data_strobe (470 Ohm)\\n> might help, but that didn't change anything.  Does anybody have some\\n> suggestions what I could do?  Does this look like a CPU-FPU communications\\n> problem or is the particular chip dead (it is a pull, not new)?\\n> Moreover, the place I bought it from is sending me an XC68882RC33.  I thought\\n> that the 68882RC33 were labeled MC not XC (for not finalized mask design). \\n> Are there any MC68882RC33?\\n\\nI, too, have a XC68882RC50 math coprocessor, which I installed\\nsuccesfully in my Mega Midget Racer (clocked at 33 MHz). I have tried\\nclocking my FPU at 28 to 50 MHz and it all worked just fine. I have a\\nMC68030-33 CPU. I don't know why my FPU has an XC (my original 33MHz FPU\\nwas label MC68882-33), but it seems to work fine on my system. Maybe you\\njust have a bad chip.\\n\\nStefan\\n\\nP.S. Or does it mean eXperimental Chip instead of Motorola Chip? .-)\\n\"\n        ],\n        \"semantic_type\": \"\",\n        \"description\": \"\"\n      }\n    },\n    {\n      \"column\": \"Labels\",\n      \"properties\": {\n        \"dtype\": \"category\",\n        \"num_unique_values\": 20,\n        \"samples\": [\n          \"alt.atheism\",\n          \"talk.politics.mideast\",\n          \"soc.religion.christian\"\n        ],\n        \"semantic_type\": \"\",\n        \"description\": \"\"\n      }\n    }\n  ]\n}"
            }
          },
          "metadata": {},
          "execution_count": 1
        }
      ],
      "source": [
        "import pandas as pd\n",
        "import matplotlib.pyplot as plt\n",
        "import seaborn as sns\n",
        "data=pd.read_csv(r\"/content/blogs_categories.csv\")\n",
        "data"
      ]
    },
    {
      "cell_type": "code",
      "execution_count": null,
      "id": "3e507e9c-9369-4b16-8b20-7c7ad13c09d3",
      "metadata": {
        "id": "3e507e9c-9369-4b16-8b20-7c7ad13c09d3",
        "outputId": "c7055bcd-f1d7-483a-a27d-842bf440ac3e"
      },
      "outputs": [
        {
          "name": "stdout",
          "output_type": "stream",
          "text": [
            "<class 'pandas.core.frame.DataFrame'>\n",
            "RangeIndex: 19997 entries, 0 to 19996\n",
            "Data columns (total 3 columns):\n",
            " #   Column      Non-Null Count  Dtype \n",
            "---  ------      --------------  ----- \n",
            " 0   Unnamed: 0  19997 non-null  int64 \n",
            " 1   Data        19997 non-null  object\n",
            " 2   Labels      19997 non-null  object\n",
            "dtypes: int64(1), object(2)\n",
            "memory usage: 468.8+ KB\n"
          ]
        }
      ],
      "source": [
        "data.info()"
      ]
    },
    {
      "cell_type": "code",
      "execution_count": null,
      "id": "bc0ee1af-9925-4264-952f-25f5329295c8",
      "metadata": {
        "id": "bc0ee1af-9925-4264-952f-25f5329295c8",
        "outputId": "fcbae7a3-62e5-4d91-838e-1c859696792d"
      },
      "outputs": [
        {
          "data": {
            "text/html": [
              "<div>\n",
              "<style scoped>\n",
              "    .dataframe tbody tr th:only-of-type {\n",
              "        vertical-align: middle;\n",
              "    }\n",
              "\n",
              "    .dataframe tbody tr th {\n",
              "        vertical-align: top;\n",
              "    }\n",
              "\n",
              "    .dataframe thead th {\n",
              "        text-align: right;\n",
              "    }\n",
              "</style>\n",
              "<table border=\"1\" class=\"dataframe\">\n",
              "  <thead>\n",
              "    <tr style=\"text-align: right;\">\n",
              "      <th></th>\n",
              "      <th>Unnamed: 0</th>\n",
              "    </tr>\n",
              "  </thead>\n",
              "  <tbody>\n",
              "    <tr>\n",
              "      <th>count</th>\n",
              "      <td>19997.000000</td>\n",
              "    </tr>\n",
              "    <tr>\n",
              "      <th>mean</th>\n",
              "      <td>9998.000000</td>\n",
              "    </tr>\n",
              "    <tr>\n",
              "      <th>std</th>\n",
              "      <td>5772.781002</td>\n",
              "    </tr>\n",
              "    <tr>\n",
              "      <th>min</th>\n",
              "      <td>0.000000</td>\n",
              "    </tr>\n",
              "    <tr>\n",
              "      <th>25%</th>\n",
              "      <td>4999.000000</td>\n",
              "    </tr>\n",
              "    <tr>\n",
              "      <th>50%</th>\n",
              "      <td>9998.000000</td>\n",
              "    </tr>\n",
              "    <tr>\n",
              "      <th>75%</th>\n",
              "      <td>14997.000000</td>\n",
              "    </tr>\n",
              "    <tr>\n",
              "      <th>max</th>\n",
              "      <td>19996.000000</td>\n",
              "    </tr>\n",
              "  </tbody>\n",
              "</table>\n",
              "</div>"
            ],
            "text/plain": [
              "         Unnamed: 0\n",
              "count  19997.000000\n",
              "mean    9998.000000\n",
              "std     5772.781002\n",
              "min        0.000000\n",
              "25%     4999.000000\n",
              "50%     9998.000000\n",
              "75%    14997.000000\n",
              "max    19996.000000"
            ]
          },
          "execution_count": 3,
          "metadata": {},
          "output_type": "execute_result"
        }
      ],
      "source": [
        "data.describe()"
      ]
    },
    {
      "cell_type": "code",
      "execution_count": null,
      "id": "66dd73ea-b141-4c24-94b4-7a1c2f183dd0",
      "metadata": {
        "id": "66dd73ea-b141-4c24-94b4-7a1c2f183dd0",
        "outputId": "ff40f0a1-9205-4795-ff17-48f78437ac06"
      },
      "outputs": [
        {
          "data": {
            "text/plain": [
              "Unnamed: 0    0\n",
              "Data          0\n",
              "Labels        0\n",
              "dtype: int64"
            ]
          },
          "execution_count": 4,
          "metadata": {},
          "output_type": "execute_result"
        }
      ],
      "source": [
        "data.isnull().sum()"
      ]
    },
    {
      "cell_type": "code",
      "execution_count": null,
      "id": "78f6bc08-be87-4753-ae5e-4f2fbfa0993b",
      "metadata": {
        "id": "78f6bc08-be87-4753-ae5e-4f2fbfa0993b",
        "outputId": "0be53270-1dac-48c0-a50d-a11324d853ac"
      },
      "outputs": [
        {
          "data": {
            "text/html": [
              "<div>\n",
              "<style scoped>\n",
              "    .dataframe tbody tr th:only-of-type {\n",
              "        vertical-align: middle;\n",
              "    }\n",
              "\n",
              "    .dataframe tbody tr th {\n",
              "        vertical-align: top;\n",
              "    }\n",
              "\n",
              "    .dataframe thead th {\n",
              "        text-align: right;\n",
              "    }\n",
              "</style>\n",
              "<table border=\"1\" class=\"dataframe\">\n",
              "  <thead>\n",
              "    <tr style=\"text-align: right;\">\n",
              "      <th></th>\n",
              "      <th>Unnamed: 0</th>\n",
              "      <th>Data</th>\n",
              "      <th>Labels</th>\n",
              "    </tr>\n",
              "  </thead>\n",
              "  <tbody>\n",
              "  </tbody>\n",
              "</table>\n",
              "</div>"
            ],
            "text/plain": [
              "Empty DataFrame\n",
              "Columns: [Unnamed: 0, Data, Labels]\n",
              "Index: []"
            ]
          },
          "execution_count": 5,
          "metadata": {},
          "output_type": "execute_result"
        }
      ],
      "source": [
        "data[data.duplicated()]"
      ]
    },
    {
      "cell_type": "code",
      "execution_count": null,
      "id": "800cf567-51d8-4f64-a332-155f6a8f7fe1",
      "metadata": {
        "id": "800cf567-51d8-4f64-a332-155f6a8f7fe1",
        "outputId": "edb48e41-e3a6-4986-c381-50b5406e929b"
      },
      "outputs": [
        {
          "data": {
            "text/html": [
              "<div>\n",
              "<style scoped>\n",
              "    .dataframe tbody tr th:only-of-type {\n",
              "        vertical-align: middle;\n",
              "    }\n",
              "\n",
              "    .dataframe tbody tr th {\n",
              "        vertical-align: top;\n",
              "    }\n",
              "\n",
              "    .dataframe thead th {\n",
              "        text-align: right;\n",
              "    }\n",
              "</style>\n",
              "<table border=\"1\" class=\"dataframe\">\n",
              "  <thead>\n",
              "    <tr style=\"text-align: right;\">\n",
              "      <th></th>\n",
              "      <th>Unnamed: 0</th>\n",
              "      <th>Data</th>\n",
              "      <th>Labels</th>\n",
              "    </tr>\n",
              "  </thead>\n",
              "  <tbody>\n",
              "    <tr>\n",
              "      <th>0</th>\n",
              "      <td>0</td>\n",
              "      <td>Xref: cantaloupe.srv.cs.cmu.edu alt.atheism:49...</td>\n",
              "      <td>alt.atheism</td>\n",
              "    </tr>\n",
              "    <tr>\n",
              "      <th>1</th>\n",
              "      <td>1</td>\n",
              "      <td>Xref: cantaloupe.srv.cs.cmu.edu alt.atheism:51...</td>\n",
              "      <td>alt.atheism</td>\n",
              "    </tr>\n",
              "    <tr>\n",
              "      <th>2</th>\n",
              "      <td>2</td>\n",
              "      <td>Newsgroups: alt.atheism\\nPath: cantaloupe.srv....</td>\n",
              "      <td>alt.atheism</td>\n",
              "    </tr>\n",
              "    <tr>\n",
              "      <th>3</th>\n",
              "      <td>3</td>\n",
              "      <td>Xref: cantaloupe.srv.cs.cmu.edu alt.atheism:51...</td>\n",
              "      <td>alt.atheism</td>\n",
              "    </tr>\n",
              "    <tr>\n",
              "      <th>4</th>\n",
              "      <td>4</td>\n",
              "      <td>Xref: cantaloupe.srv.cs.cmu.edu alt.atheism:51...</td>\n",
              "      <td>alt.atheism</td>\n",
              "    </tr>\n",
              "    <tr>\n",
              "      <th>...</th>\n",
              "      <td>...</td>\n",
              "      <td>...</td>\n",
              "      <td>...</td>\n",
              "    </tr>\n",
              "    <tr>\n",
              "      <th>19992</th>\n",
              "      <td>19992</td>\n",
              "      <td>Xref: cantaloupe.srv.cs.cmu.edu alt.atheism:54...</td>\n",
              "      <td>talk.religion.misc</td>\n",
              "    </tr>\n",
              "    <tr>\n",
              "      <th>19993</th>\n",
              "      <td>19993</td>\n",
              "      <td>Xref: cantaloupe.srv.cs.cmu.edu alt.atheism:54...</td>\n",
              "      <td>talk.religion.misc</td>\n",
              "    </tr>\n",
              "    <tr>\n",
              "      <th>19994</th>\n",
              "      <td>19994</td>\n",
              "      <td>Xref: cantaloupe.srv.cs.cmu.edu talk.religion....</td>\n",
              "      <td>talk.religion.misc</td>\n",
              "    </tr>\n",
              "    <tr>\n",
              "      <th>19995</th>\n",
              "      <td>19995</td>\n",
              "      <td>Xref: cantaloupe.srv.cs.cmu.edu talk.religion....</td>\n",
              "      <td>talk.religion.misc</td>\n",
              "    </tr>\n",
              "    <tr>\n",
              "      <th>19996</th>\n",
              "      <td>19996</td>\n",
              "      <td>Xref: cantaloupe.srv.cs.cmu.edu talk.abortion:...</td>\n",
              "      <td>talk.religion.misc</td>\n",
              "    </tr>\n",
              "  </tbody>\n",
              "</table>\n",
              "<p>19997 rows × 3 columns</p>\n",
              "</div>"
            ],
            "text/plain": [
              "       Unnamed: 0                                               Data  \\\n",
              "0               0  Xref: cantaloupe.srv.cs.cmu.edu alt.atheism:49...   \n",
              "1               1  Xref: cantaloupe.srv.cs.cmu.edu alt.atheism:51...   \n",
              "2               2  Newsgroups: alt.atheism\\nPath: cantaloupe.srv....   \n",
              "3               3  Xref: cantaloupe.srv.cs.cmu.edu alt.atheism:51...   \n",
              "4               4  Xref: cantaloupe.srv.cs.cmu.edu alt.atheism:51...   \n",
              "...           ...                                                ...   \n",
              "19992       19992  Xref: cantaloupe.srv.cs.cmu.edu alt.atheism:54...   \n",
              "19993       19993  Xref: cantaloupe.srv.cs.cmu.edu alt.atheism:54...   \n",
              "19994       19994  Xref: cantaloupe.srv.cs.cmu.edu talk.religion....   \n",
              "19995       19995  Xref: cantaloupe.srv.cs.cmu.edu talk.religion....   \n",
              "19996       19996  Xref: cantaloupe.srv.cs.cmu.edu talk.abortion:...   \n",
              "\n",
              "                   Labels  \n",
              "0             alt.atheism  \n",
              "1             alt.atheism  \n",
              "2             alt.atheism  \n",
              "3             alt.atheism  \n",
              "4             alt.atheism  \n",
              "...                   ...  \n",
              "19992  talk.religion.misc  \n",
              "19993  talk.religion.misc  \n",
              "19994  talk.religion.misc  \n",
              "19995  talk.religion.misc  \n",
              "19996  talk.religion.misc  \n",
              "\n",
              "[19997 rows x 3 columns]"
            ]
          },
          "execution_count": 6,
          "metadata": {},
          "output_type": "execute_result"
        }
      ],
      "source": [
        "data.drop_duplicates()"
      ]
    },
    {
      "cell_type": "code",
      "execution_count": null,
      "id": "6d7f9080-6261-479d-a945-e3cdea379577",
      "metadata": {
        "id": "6d7f9080-6261-479d-a945-e3cdea379577",
        "outputId": "901e78ef-9d6e-47c2-d6b5-f05bef5ba623"
      },
      "outputs": [
        {
          "data": {
            "text/plain": [
              "0        xref cantaloupesrvcscmuedu altatheism49960 alt...\n",
              "1        xref cantaloupesrvcscmuedu altatheism51060 alt...\n",
              "2        newsgroups altatheism path cantaloupesrvcscmue...\n",
              "3        xref cantaloupesrvcscmuedu altatheism51120 alt...\n",
              "4        xref cantaloupesrvcscmuedu altatheism51121 soc...\n",
              "                               ...                        \n",
              "19992    xref cantaloupesrvcscmuedu altatheism54482 tal...\n",
              "19993    xref cantaloupesrvcscmuedu altatheism54485 tal...\n",
              "19994    xref cantaloupesrvcscmuedu talkreligionmisc845...\n",
              "19995    xref cantaloupesrvcscmuedu talkreligionmisc845...\n",
              "19996    xref cantaloupesrvcscmuedu talkabortion121820 ...\n",
              "Name: cleaned_text, Length: 19997, dtype: object"
            ]
          },
          "execution_count": 7,
          "metadata": {},
          "output_type": "execute_result"
        }
      ],
      "source": [
        "import string\n",
        "from nltk.corpus import stopwords\n",
        "from nltk.tokenize import word_tokenize\n",
        "from sklearn.feature_extraction.text import TfidfVectorizer\n",
        "\n",
        "# Download NLTK data files (run this once)\n",
        "import nltk\n",
        "# nltk.download('punkt')\n",
        "# nltk.download('stopwords')\n",
        "\n",
        "# Function to clean text\n",
        "def preprocess_text(text):\n",
        "    text = text.lower()  # Convert to lowercase\n",
        "    text = text.translate(str.maketrans('', '', string.punctuation))  # Remove punctuation\n",
        "    tokens = word_tokenize(text)  # Tokenize the text\n",
        "    stop_words = set(stopwords.words('english'))  # Load stopwords\n",
        "    filtered_tokens = [word for word in tokens if word not in stop_words]  # Remove stopwords\n",
        "    return ' '.join(filtered_tokens)\n",
        "\n",
        "# Apply preprocessing\n",
        "data['cleaned_text'] = data['Data'].apply(preprocess_text)\n",
        "data['cleaned_text']"
      ]
    },
    {
      "cell_type": "code",
      "execution_count": null,
      "id": "83f56770-520d-4e95-831c-a65921e19dba",
      "metadata": {
        "id": "83f56770-520d-4e95-831c-a65921e19dba"
      },
      "outputs": [],
      "source": [
        "# TF-IDF Vectorization\n",
        "tfidf_vectorizer = TfidfVectorizer()\n",
        "x= tfidf_vectorizer.fit_transform(data['cleaned_text'])\n",
        "\n",
        "# The labels for classification\n",
        "y = data['Labels']\n"
      ]
    },
    {
      "cell_type": "markdown",
      "id": "d9141c97-f8f7-48a0-b547-8d6d887168d2",
      "metadata": {
        "id": "d9141c97-f8f7-48a0-b547-8d6d887168d2"
      },
      "source": [
        "2. Naive Bayes Model for Text Classification"
      ]
    },
    {
      "cell_type": "code",
      "execution_count": null,
      "id": "5446dc05-259d-46b9-9994-ba6ffc8753d2",
      "metadata": {
        "id": "5446dc05-259d-46b9-9994-ba6ffc8753d2",
        "outputId": "125759ee-6995-4078-f87b-687cc8260253"
      },
      "outputs": [
        {
          "data": {
            "text/plain": [
              "(<15997x258828 sparse matrix of type '<class 'numpy.float64'>'\n",
              " \twith 2116539 stored elements in Compressed Sparse Row format>,\n",
              " 5748             comp.windows.x\n",
              " 1688              comp.graphics\n",
              " 8174            rec.motorcycles\n",
              " 10194          rec.sport.hockey\n",
              " 4667      comp.sys.mac.hardware\n",
              "                   ...          \n",
              " 11284                 sci.crypt\n",
              " 11964                 sci.crypt\n",
              " 5390             comp.windows.x\n",
              " 860                 alt.atheism\n",
              " 15795    soc.religion.christian\n",
              " Name: Labels, Length: 15997, dtype: object)"
            ]
          },
          "execution_count": 9,
          "metadata": {},
          "output_type": "execute_result"
        }
      ],
      "source": [
        "from sklearn.model_selection import train_test_split\n",
        "\n",
        "# Split the data into training and test sets\n",
        "x_train, x_test, y_train, y_test = train_test_split(x, y, test_size=0.2, random_state=42)\n",
        "x_train,y_train\n"
      ]
    },
    {
      "cell_type": "code",
      "execution_count": null,
      "id": "9275d8ef-abd2-4580-9540-c2803900f1a4",
      "metadata": {
        "id": "9275d8ef-abd2-4580-9540-c2803900f1a4",
        "outputId": "1943a38c-85a9-427c-9307-6887b5ba6c28"
      },
      "outputs": [
        {
          "data": {
            "text/plain": [
              "array(['rec.sport.hockey', 'comp.sys.mac.hardware',\n",
              "       'comp.sys.ibm.pc.hardware', ..., 'rec.motorcycles',\n",
              "       'talk.politics.guns', 'comp.windows.x'], dtype='<U24')"
            ]
          },
          "execution_count": 10,
          "metadata": {},
          "output_type": "execute_result"
        }
      ],
      "source": [
        "\n",
        "from sklearn.naive_bayes import MultinomialNB\n",
        "from sklearn.metrics import accuracy_score, precision_score, recall_score, f1_score\n",
        "\n",
        "# Initialize the classifier\n",
        "nb_classifier = MultinomialNB()\n",
        "\n",
        "# Train the model\n",
        "nb_classifier.fit(x_train, y_train)\n",
        "\n",
        "# Make predictions\n",
        "y_pred = nb_classifier.predict(x_test)\n",
        "y_pred\n"
      ]
    },
    {
      "cell_type": "markdown",
      "id": "b48ec7e3-cc59-4ee0-8c9f-dbfac3a3a487",
      "metadata": {
        "id": "b48ec7e3-cc59-4ee0-8c9f-dbfac3a3a487"
      },
      "source": [
        "3. Sentiment Analysis"
      ]
    },
    {
      "cell_type": "code",
      "execution_count": null,
      "id": "abb2bbea-85c3-4916-ac80-4e4940816e14",
      "metadata": {
        "id": "abb2bbea-85c3-4916-ac80-4e4940816e14",
        "outputId": "95656e64-49b1-40c1-93bd-eb3c39c09d26"
      },
      "outputs": [
        {
          "name": "stdout",
          "output_type": "stream",
          "text": [
            "positive    14255\n",
            "negative     5724\n",
            "neutral        18\n",
            "Name: sentiment, dtype: int64\n"
          ]
        }
      ],
      "source": [
        "from textblob import TextBlob\n",
        "\n",
        "# Function to get sentiment\n",
        "def get_sentiment(text):\n",
        "    analysis = TextBlob(text)\n",
        "    if analysis.sentiment.polarity > 0:\n",
        "        return 'positive'\n",
        "    elif analysis.sentiment.polarity == 0:\n",
        "        return 'neutral'\n",
        "    else:\n",
        "        return 'negative'\n",
        "\n",
        "# Apply sentiment analysis\n",
        "data['sentiment'] = data['cleaned_text'].apply(get_sentiment)\n",
        "\n",
        "# Display sentiment distribution\n",
        "print(data['sentiment'].value_counts())\n"
      ]
    },
    {
      "cell_type": "markdown",
      "id": "384dffbd-ce74-464c-956e-781e8ea5c8e4",
      "metadata": {
        "id": "384dffbd-ce74-464c-956e-781e8ea5c8e4"
      },
      "source": [
        "4. Evaluation"
      ]
    },
    {
      "cell_type": "code",
      "execution_count": null,
      "id": "495b989e-c1a6-4903-9950-f7f7aebe90ca",
      "metadata": {
        "id": "495b989e-c1a6-4903-9950-f7f7aebe90ca",
        "outputId": "e7f22d07-71cf-4b2b-b145-a618b514d520"
      },
      "outputs": [
        {
          "name": "stdout",
          "output_type": "stream",
          "text": [
            "                          precision    recall  f1-score   support\n",
            "\n",
            "             alt.atheism       0.72      0.79      0.75       173\n",
            "           comp.graphics       0.87      0.91      0.89       179\n",
            " comp.os.ms-windows.misc       0.93      0.88      0.91       226\n",
            "comp.sys.ibm.pc.hardware       0.85      0.86      0.85       204\n",
            "   comp.sys.mac.hardware       0.90      0.96      0.93       205\n",
            "          comp.windows.x       0.97      0.94      0.96       186\n",
            "            misc.forsale       0.91      0.78      0.84       190\n",
            "               rec.autos       0.92      0.94      0.93       203\n",
            "         rec.motorcycles       1.00      0.97      0.98       218\n",
            "      rec.sport.baseball       0.99      0.98      0.99       192\n",
            "        rec.sport.hockey       0.98      0.99      0.98       203\n",
            "               sci.crypt       0.90      0.98      0.94       200\n",
            "         sci.electronics       0.94      0.90      0.92       227\n",
            "                 sci.med       1.00      0.95      0.98       196\n",
            "               sci.space       0.97      0.97      0.97       205\n",
            "  soc.religion.christian       0.90      1.00      0.94       215\n",
            "      talk.politics.guns       0.85      0.91      0.88       205\n",
            "   talk.politics.mideast       0.92      0.94      0.93       197\n",
            "      talk.politics.misc       0.76      0.76      0.76       200\n",
            "      talk.religion.misc       0.60      0.48      0.53       176\n",
            "\n",
            "                accuracy                           0.90      4000\n",
            "               macro avg       0.89      0.89      0.89      4000\n",
            "            weighted avg       0.90      0.90      0.90      4000\n",
            "\n"
          ]
        }
      ],
      "source": [
        "# Calculate evaluation metrics\n",
        "from sklearn.metrics import classification_report\n",
        "print(classification_report(y_test,y_pred))\n"
      ]
    },
    {
      "cell_type": "markdown",
      "id": "36e8d23c-a29e-4e8c-bd5f-01cd442a2046",
      "metadata": {
        "id": "36e8d23c-a29e-4e8c-bd5f-01cd442a2046"
      },
      "source": [
        "In conclusion, the Naive Bayes classifier, with proper preprocessing and feature extraction, can effectively categorize blog posts. Performance evaluation using metrics such as accuracy, precision, recall, and F1-score provides a comprehensive view of the model’s effectiveness. Challenges such as class imbalance and text preprocessing need careful handling to ensure robust performance.\n",
        "\n",
        "Sentiment analysis adds another layer of understanding, revealing the emotional tone of the blog posts. These insights can be crucial for content strategy, reader engagement, and marketing efforts.\n",
        "\n",
        "By combining text classification with sentiment analysis, you gain a powerful toolkit for extracting and leveraging insights from textual data, enhancing both the analytical and strategic capabilities of your organization."
      ]
    }
  ],
  "metadata": {
    "kernelspec": {
      "display_name": "Python 3 (ipykernel)",
      "language": "python",
      "name": "python3"
    },
    "language_info": {
      "codemirror_mode": {
        "name": "ipython",
        "version": 3
      },
      "file_extension": ".py",
      "mimetype": "text/x-python",
      "name": "python",
      "nbconvert_exporter": "python",
      "pygments_lexer": "ipython3",
      "version": "3.11.7"
    },
    "colab": {
      "provenance": []
    }
  },
  "nbformat": 4,
  "nbformat_minor": 5
}