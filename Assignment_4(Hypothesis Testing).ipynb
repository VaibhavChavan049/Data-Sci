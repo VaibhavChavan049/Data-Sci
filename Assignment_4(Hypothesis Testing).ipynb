{
 "cells": [
  {
   "cell_type": "code",
   "execution_count": 2,
   "id": "17250466-c7e9-430d-9b21-5fc1961a458a",
   "metadata": {},
   "outputs": [],
   "source": [
    "import numpy as np\n",
    "from scipy.stats import norm"
   ]
  },
  {
   "cell_type": "code",
   "execution_count": 3,
   "id": "b3f86df2-12fc-44ba-81cd-665f4359669b",
   "metadata": {},
   "outputs": [],
   "source": [
    "# Given data\n",
    "sample_mean = 3050\n",
    "theoretical_mean = 1000 + 5 * 600  # W = 1000 + 5X for X = 600\n",
    "sigma = 5 * 25  # Standard deviation of the weekly cost\n",
    "n = 25  # Sample size\n",
    "alpha = 0.05  # Significance level"
   ]
  },
  {
   "cell_type": "code",
   "execution_count": 11,
   "id": "24ef63bc-96bf-4b74-b3b5-01906e4d2361",
   "metadata": {},
   "outputs": [],
   "source": [
    "# . State the Hypotheses\n",
    "# H0:  = 4000 (Theoretical mean weekly cost according to the model)\n",
    "# H1:  > 4000 (Theoretical mean weekly cost is higher than the model suggests)"
   ]
  },
  {
   "cell_type": "code",
   "execution_count": 5,
   "id": "c9ee530f-a981-4a82-8161-8c82ff4fbadc",
   "metadata": {},
   "outputs": [],
   "source": [
    "# . Calculate the Test Statistic\n",
    "z = (sample_mean - theoretical_mean) / (sigma / np.sqrt(n))"
   ]
  },
  {
   "cell_type": "code",
   "execution_count": 6,
   "id": "51e70e30-3d44-4aa6-b045-4f2f56d08f82",
   "metadata": {},
   "outputs": [],
   "source": [
    "# . Determine the Critical Value\n",
    "critical_value = norm.ppf(1 - alpha)\n"
   ]
  },
  {
   "cell_type": "code",
   "execution_count": 7,
   "id": "053a676c-3899-4784-9cd6-368a4affd8bf",
   "metadata": {},
   "outputs": [],
   "source": [
    "\n",
    "p_value = 1 - norm.cdf(z)"
   ]
  },
  {
   "cell_type": "code",
   "execution_count": 8,
   "id": "9cd79eeb-bfe1-4bca-b0b2-e3545fad3938",
   "metadata": {},
   "outputs": [
    {
     "name": "stdout",
     "output_type": "stream",
     "text": [
      "Test Statistic (z): -38.00\n",
      "Critical Value (z_alpha): 1.64\n",
      "P-value: 1.0000\n"
     ]
    }
   ],
   "source": [
    "# Print the results\n",
    "print(f\"Test Statistic (z): {z:.2f}\")\n",
    "print(f\"Critical Value (z_alpha): {critical_value:.2f}\")\n",
    "print(f\"P-value: {p_value:.4f}\")"
   ]
  },
  {
   "cell_type": "code",
   "execution_count": 9,
   "id": "0b32eaaa-7bf9-41ca-ae9b-a7ecc809599b",
   "metadata": {},
   "outputs": [
    {
     "name": "stdout",
     "output_type": "stream",
     "text": [
      "Decision: Fail to reject the null hypothesis (H0)\n"
     ]
    }
   ],
   "source": [
    "if z > critical_value:\n",
    "    print(\"Decision: Reject the null hypothesis (H0)\")\n",
    "else:\n",
    "    print(\"Decision: Fail to reject the null hypothesis (H0)\")"
   ]
  },
  {
   "cell_type": "code",
   "execution_count": 10,
   "id": "872155a7-8494-4166-ab95-dbefd200f78e",
   "metadata": {},
   "outputs": [
    {
     "name": "stdout",
     "output_type": "stream",
     "text": [
      "Conclusion: There is not enough evidence to support the restaurant owners' claim that the weekly operating costs are higher than the model suggests.\n"
     ]
    }
   ],
   "source": [
    "# 5. Conclusion\n",
    "if z > critical_value:\n",
    "    print(\"Conclusion: There is strong evidence to support the restaurant owners' claim that the weekly operating costs are higher than the model suggests.\")\n",
    "else:\n",
    "    print(\"Conclusion: There is not enough evidence to support the restaurant owners' claim that the weekly operating costs are higher than the model suggests.\")\n"
   ]
  },
  {
   "cell_type": "code",
   "execution_count": null,
   "id": "707c334f-1616-4470-850c-5f2ca685869e",
   "metadata": {},
   "outputs": [],
   "source": []
  }
 ],
 "metadata": {
  "kernelspec": {
   "display_name": "Python 3 (ipykernel)",
   "language": "python",
   "name": "python3"
  },
  "language_info": {
   "codemirror_mode": {
    "name": "ipython",
    "version": 3
   },
   "file_extension": ".py",
   "mimetype": "text/x-python",
   "name": "python",
   "nbconvert_exporter": "python",
   "pygments_lexer": "ipython3",
   "version": "3.11.7"
  }
 },
 "nbformat": 4,
 "nbformat_minor": 5
}
